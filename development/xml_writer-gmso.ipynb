{
 "cells": [
  {
   "cell_type": "code",
   "execution_count": 1,
   "metadata": {},
   "outputs": [],
   "source": [
    "import numpy as np\n",
    "#import xml.etree.ElementTree as ET\n",
    "from lxml import objectify"
   ]
  },
  {
   "cell_type": "code",
   "execution_count": 8,
   "metadata": {},
   "outputs": [],
   "source": [
    "# I don't want to have to redo all the smarts definitions\n",
    "with open(\"uff-desc.xml\", \"r\") as f:\n",
    "    data=f.readlines()\n",
    "xml_str = \"\".join(data)\n",
    "root = objectify.fromstring(xml_str)\n",
    "\n",
    "uff_dict = {}\n",
    "for a in root.AtomTypes[0].Type:\n",
    "    #print(a.attrib)\n",
    "    try:\n",
    "        defn = a.attrib['def']\n",
    "    except KeyError:\n",
    "        defn = None\n",
    "    try:\n",
    "        desc = a.attrib['desc']\n",
    "    except KeyError:\n",
    "        desc = None\n",
    "    try:\n",
    "        overrides = a.attrib['overrides']\n",
    "    except KeyError:\n",
    "        overrides = None\n",
    "    a_dict = {\n",
    "        \"definition\" : defn,\n",
    "        \"description\" : desc,\n",
    "        \"overrides\" : overrides\n",
    "    }\n",
    "    uff_dict[a.attrib[\"name\"]] = a_dict"
   ]
  },
  {
   "cell_type": "code",
   "execution_count": 4,
   "metadata": {},
   "outputs": [],
   "source": [
    "# This txt file is Table 1 from Rappe 1992. I could not find a plain text version of it,\n",
    "# so it is copied from PDF which is a character recognition nightmare. \n",
    "# I have checked it with most focus going towards atom types I want to use,\n",
    "# but errors probably exist! D: \n",
    "\n",
    "# angstroem, deg, kcal/mol, charge\n",
    "# type, element, bond, angle, distance, energy, scale, charge\n",
    "d_uff = np.dtype([\n",
    "    (\"type\", np.unicode_, 8), \n",
    "    (\"element\", np.unicode_, 2), \n",
    "    (\"bond\", \"d\"),\n",
    "    (\"angle\", \"d\"),\n",
    "    (\"distance\", \"d\"),\n",
    "    (\"energy\", \"d\"),\n",
    "    (\"scale\", \"d\"),\n",
    "    (\"charge\", \"d\"),\n",
    "])\n",
    "uff_data = np.loadtxt(\"uff.txt\", dtype=d_uff)\n",
    "#print(uff_data[0][\"type\"])"
   ]
  },
  {
   "cell_type": "code",
   "execution_count": 5,
   "metadata": {},
   "outputs": [],
   "source": [
    "mass_dict = {}\n",
    "with open(\"masses.txt\") as f:\n",
    "    for line in f.readlines():\n",
    "        elem, mass = line.split()\n",
    "        mass_dict[elem] = mass\n",
    "#print(mass_dict)"
   ]
  },
  {
   "cell_type": "code",
   "execution_count": 19,
   "metadata": {},
   "outputs": [],
   "source": [
    "with open(\"uff-gmso.xml\", \"w\") as f:\n",
    "    f.write('<ForceField version=\"0.0.1\" name=\"UFF\">\\n\\t<FFMetaData>\\n')\n",
    "    f.write('\\t\\t<Units energy=\"kcal/mol\" distance=\"angstrom\" mass=\"amu\" charge=\"qe\"/>\\n')\n",
    "    f.write('\\t</FFMetaData>\\n\\t<AtomTypes expression=\"4*epsilon*((sigma/r)**12 - (sigma/r)**6)\">\\n')\n",
    "    f.write('\\t\\t<ParametersUnitDef parameter=\"sigma\" unit=\"angstrom\"/>\\n')\n",
    "    f.write('\\t\\t<ParametersUnitDef parameter=\"epsilon\" unit=\"kcal/mol\"/>\\n')\n",
    "    for atom in uff_data:\n",
    "        a_str = \"\"\n",
    "        for param in [\"definition\", \"overrides\", \"description\"]:\n",
    "            try:\n",
    "                val = uff_dict[atom[\"type\"]][param]\n",
    "            except KeyError:\n",
    "                val = None\n",
    "            if val != None:\n",
    "                a_str += f' {param} = \"{val}\"'\n",
    "        try:\n",
    "            mass = mass_dict[atom[\"element\"]]\n",
    "        except KeyError:\n",
    "            continue # if we don't have the mass-- don't write this atom\n",
    "        f.write(f'\\t\\t<AtomType name=\"{atom[\"type\"]}\" element=\"{atom[\"element\"]}\" mass=\"{mass}\"{a_str}>\\n')\n",
    "        f.write('\\t\\t\\t<Parameters>\\n')\n",
    "        f.write(f'\\t\\t\\t\\t<Parameter name=\"sigma\" value=\"{atom[\"distance\"]}\"/>\\n')\n",
    "        f.write(f'\\t\\t\\t\\t<Parameter name=\"epsilon\" value=\"{atom[\"energy\"]}\"/>\\n')\n",
    "        f.write('\\t\\t\\t</Parameters>\\n')\n",
    "        f.write('\\t\\t</AtomType>\\n')\n",
    "\n",
    "    f.write('\\t</AtomTypes>\\n')\n",
    "    f.write('\\t<BondTypes expression=\"1/2*k*(r-rij)**2\">\\n')\n",
    "    f.write('\\t\\t<ParametersUnitDef parameter=\"rij\" unit=\"angstrom\"/>\\n')\n",
    "    f.write('\\t\\t<ParametersUnitDef parameter=\"k\" unit=\"(kcal/mol)/angstrom**2\"/>\\n')\n",
    "    \n",
    "    for i,atom1 in enumerate(uff_data):\n",
    "        for atom2 in uff_data[i:]:\n",
    "            try:\n",
    "                mass_dict[atom1[\"element\"]]\n",
    "                mass_dict[atom2[\"element\"]]\n",
    "            except KeyError:\n",
    "                continue\n",
    "            # so in the rappe paper r_ij is supposed to be \n",
    "            # r_ij = r_i + r_j +r_BO + r_EN \n",
    "            # but to simplify things, I'm going to try just \n",
    "            # r_ij = r_i + r_j + 0.026\n",
    "            # 0.026 is a correction so the c-c bond comes out right.\n",
    "            length = atom1[\"bond\"] + atom2[\"bond\"] + 0.026 #angstroem\n",
    "            \n",
    "            # k_ij = 664.12 (Z*_i x Z*_j)/(r_ij^3)\n",
    "            energy = 664.12 * atom1[\"charge\"] * atom2[\"charge\"]/ length**3\n",
    "            name = atom1[\"type\"] + atom2[\"type\"] # this was necessary to stop error\n",
    "            f.write(f'\\t\\t<BondType name=\"{name}\" type1=\"{atom1[\"type\"]}\" type2=\"{atom2[\"type\"]}\">\\n')\n",
    "            f.write('\\t\\t\\t<Parameters>\\n')\n",
    "            f.write(f'\\t\\t\\t\\t<Parameter name=\"rij\" value=\"{length}\"/>\\n')\n",
    "            f.write(f'\\t\\t\\t\\t<Parameter name=\"k\" value=\"{energy}\"/>\\n')\n",
    "            f.write('\\t\\t\\t</Parameters>\\n')\n",
    "            f.write('\\t\\t</BondType>\\n')\n",
    "\n",
    "    f.write('\\t</BondTypes>\\n')\n",
    "    f.write('</ForceField>')"
   ]
  },
  {
   "cell_type": "markdown",
   "metadata": {},
   "source": [
    "if you don't give BondType a name, you get this error--even though name should be optional according to the [schema](https://github.com/mosdef-hub/gmso/blob/af40af05f22a36b6d7fcc076a8306d4cc2179a46/gmso/utils/schema/ff-gmso.xsd)\n",
    "\n",
    "```DocumentInvalid: Element 'BondType': Not all fields of key identity-constraint 'bondtype_name_key' evaluate to a node., line 708 xml```"
   ]
  },
  {
   "cell_type": "code",
   "execution_count": null,
   "metadata": {},
   "outputs": [],
   "source": []
  }
 ],
 "metadata": {
  "kernelspec": {
   "display_name": "Python 3",
   "language": "python",
   "name": "python3"
  },
  "language_info": {
   "codemirror_mode": {
    "name": "ipython",
    "version": 3
   },
   "file_extension": ".py",
   "mimetype": "text/x-python",
   "name": "python",
   "nbconvert_exporter": "python",
   "pygments_lexer": "ipython3",
   "version": "3.7.3"
  }
 },
 "nbformat": 4,
 "nbformat_minor": 4
}
