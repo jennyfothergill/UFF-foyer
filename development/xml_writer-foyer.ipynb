{
 "cells": [
  {
   "cell_type": "code",
   "execution_count": 1,
   "metadata": {},
   "outputs": [],
   "source": [
    "import numpy as np\n",
    "from lxml import objectify"
   ]
  },
  {
   "cell_type": "code",
   "execution_count": 2,
   "metadata": {},
   "outputs": [],
   "source": [
    "# angstroem, deg, kcal/mol, charge\n",
    "# type, element, bond, angle, distance, energy, scale, charge\n",
    "d_uff = np.dtype([\n",
    "    (\"type\", np.unicode_, 8), \n",
    "    (\"element\", np.unicode_, 2), \n",
    "    (\"bond\", \"d\"),\n",
    "    (\"angle\", \"d\"),\n",
    "    (\"distance\", \"d\"),\n",
    "    (\"energy\", \"d\"),\n",
    "    (\"scale\", \"d\"),\n",
    "    (\"charge\", \"d\"),\n",
    "])\n",
    "uff_data = np.loadtxt(\"uff.txt\", dtype=d_uff)\n",
    "#print(uff_data[0][\"type\"])"
   ]
  },
  {
   "cell_type": "code",
   "execution_count": 3,
   "metadata": {},
   "outputs": [],
   "source": [
    "mass_dict = {}\n",
    "with open(\"masses.txt\") as f:\n",
    "    for line in f.readlines():\n",
    "        elem, mass = line.split()\n",
    "        mass_dict[elem] = mass\n",
    "#print(mass_dict)"
   ]
  },
  {
   "cell_type": "code",
   "execution_count": 4,
   "metadata": {},
   "outputs": [],
   "source": [
    "# I don't want to have to redo all the smarts definitions\n",
    "with open(\"uff-desc.xml\", \"r\") as f:\n",
    "    data=f.readlines()\n",
    "xml_str = \"\".join(data)\n",
    "root = objectify.fromstring(xml_str)\n",
    "\n",
    "uff_dict = {}\n",
    "for a in root.AtomTypes[0].Type:\n",
    "    #print(a.attrib)\n",
    "    try:\n",
    "        defn = a.attrib['def']\n",
    "    except KeyError:\n",
    "        defn = None\n",
    "    try:\n",
    "        desc = a.attrib['desc']\n",
    "    except KeyError:\n",
    "        desc = None\n",
    "    try:\n",
    "        overrides = a.attrib['overrides']\n",
    "    except KeyError:\n",
    "        overrides = None\n",
    "    a_dict = {\n",
    "        \"def\" : defn,\n",
    "        \"desc\" : desc,\n",
    "        \"overrides\" : overrides\n",
    "    }\n",
    "    uff_dict[a.attrib[\"name\"]] = a_dict"
   ]
  },
  {
   "cell_type": "code",
   "execution_count": 5,
   "metadata": {},
   "outputs": [],
   "source": [
    "with open(\"uff-foyer.xml\", \"w\") as f:\n",
    "    f.write(\"<ForceField>\\n\\t<AtomTypes>\\n\")\n",
    "    for atom in uff_data:\n",
    "        try:\n",
    "            mass = mass_dict[atom[\"element\"]]\n",
    "        except KeyError:\n",
    "            continue\n",
    "            \n",
    "        a_str = \"\"\n",
    "        for param in [\"def\", \"overrides\", \"desc\"]:\n",
    "            try:\n",
    "                val = uff_dict[atom[\"type\"]][param]\n",
    "            except KeyError:\n",
    "                val = None\n",
    "            if val != None:\n",
    "                a_str += f' {param} = \"{val}\"'\n",
    "                \n",
    "        f.write(f'\\t\\t<Type name=\"{atom[\"type\"]}\" class=\"{atom[\"type\"]}\" element=\"{atom[\"element\"]}\" mass=\"{mass}\"{a_str}/>\\n')\n",
    "    f.write('\\t</AtomTypes>\\n')\n",
    "    f.write('\\t<NonbondedForce coulomb14scale=\"0.833333\" lj14scale=\"0.5\">\\n')\n",
    "    for atom in uff_data:\n",
    "        try:\n",
    "            mass = mass_dict[atom[\"element\"]]\n",
    "        except KeyError:\n",
    "            continue\n",
    "        f.write(f'\\t\\t<Atom type=\"{atom[\"type\"]}\" charge=\"{atom[\"charge\"]}\" sigma=\"{atom[\"distance\"]/10}\" epsilon=\"{atom[\"energy\"]}\"/>\\n')\n",
    "\n",
    "    f.write('\\t</NonbondedForce>\\n')\n",
    "    f.write('\\t<HarmonicBondForce>\\n')\n",
    "    for i,atom1 in enumerate(uff_data):\n",
    "        for atom2 in uff_data[i:]:\n",
    "            # so in the rappe paper r_ij is supposed to be \n",
    "            # r_ij = r_i + r_j +r_BO + r_EN \n",
    "            # but to simplify things, I'm going to try just \n",
    "            # r_ij = r_i + r_j + 0.026\n",
    "            # 0.026 is a correction so the c-c bond comes out right.\n",
    "            length = atom1[\"bond\"] + atom2[\"bond\"] + 0.026 #angstroem\n",
    "            length /= 10 # convert to nm\n",
    "            \n",
    "            # k_ij = 664.12 (Z*_i x Z*_j)/(r_ij^3)  unit is (kcal/mol)/A**3\n",
    "            # unit for 664.12 must be A/(kcal/mol) -- divide by 10 to get nm\n",
    "            energy = 4.184 * 664.12/10 * atom1[\"charge\"] * atom2[\"charge\"]/ length**3\n",
    "            \n",
    "            f.write(f'\\t\\t<Bond class1=\"{atom1[\"type\"]}\" class2=\"{atom2[\"type\"]}\" length=\"{length:.3f}\" k=\"{energy:.3f}\"/>\\n')\n",
    "\n",
    "    f.write('\\t</HarmonicBondForce>\\n')\n",
    "    f.write('</ForceField>')"
   ]
  },
  {
   "cell_type": "code",
   "execution_count": null,
   "metadata": {},
   "outputs": [],
   "source": []
  }
 ],
 "metadata": {
  "kernelspec": {
   "display_name": "Python 3",
   "language": "python",
   "name": "python3"
  },
  "language_info": {
   "codemirror_mode": {
    "name": "ipython",
    "version": 3
   },
   "file_extension": ".py",
   "mimetype": "text/x-python",
   "name": "python",
   "nbconvert_exporter": "python",
   "pygments_lexer": "ipython3",
   "version": "3.7.3"
  }
 },
 "nbformat": 4,
 "nbformat_minor": 4
}
